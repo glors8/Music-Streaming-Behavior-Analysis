{
 "cells": [
  {
   "cell_type": "markdown",
   "metadata": {
    "id": "E0vqbgi9ay0H"
   },
   "source": [
    "# Déjame escuchar la música"
   ]
  },
  {
   "cell_type": "markdown",
   "metadata": {
    "id": "fhq_eyov_Zcs"
   },
   "source": [
    "# Contenido <a id='back'></a>\n",
    "\n",
    "* [Introducción](#intro)\n",
    "* [Etapa 1. Descripción de los datos](#data_review)\n",
    "    * [Conclusiones](#data_review_conclusions)\n",
    "* [Etapa 2. Preprocesamiento de datos](#data_preprocessing)\n",
    "    * [2.1 Estilo del encabezado](#header_style)\n",
    "    * [2.2 Valores ausentes](#missing_values)\n",
    "    * [2.3 Duplicados](#duplicates)\n",
    "    * [2.4 Conclusiones](#data_preprocessing_conclusions)\n",
    "* [Etapa 3. Prueba de hipótesis](#hypothesis)\n",
    "    * [3.1 Hipótesis 1: actividad de los usuarios y las usuarias en las dos ciudades](#activity)\n",
    "* [Conclusiones](#end)"
   ]
  },
  {
   "cell_type": "markdown",
   "metadata": {
    "id": "VUC88oWjTJw2"
   },
   "source": [
    "## Introducción <a id='intro'></a>\n",
    "Como analista de datos, tu trabajo consiste en analizar datos para extraer información valiosa y tomar decisiones basadas en ellos. Esto implica diferentes etapas, como la descripción general de los datos, el preprocesamiento y la prueba de hipótesis.\n",
    "\n",
    "Siempre que investigamos, necesitamos formular hipótesis que después podamos probar. A veces aceptamos estas hipótesis; otras veces, las rechazamos. Para tomar las decisiones correctas, una empresa debe ser capaz de entender si está haciendo las suposiciones correctas.\n",
    "\n",
    "En este proyecto, compararás las preferencias musicales de las ciudades de Springfield y Shelbyville. Estudiarás datos reales de transmisión de música online para probar la hipótesis a continuación y comparar el comportamiento de los usuarios y las usuarias de estas dos ciudades.\n",
    "\n",
    "### Objetivo:\n",
    "Prueba la hipótesis:\n",
    "1. La actividad de los usuarios y las usuarias difiere según el día de la semana y dependiendo de la ciudad.\n",
    "\n",
    "\n",
    "### Etapas\n",
    "Los datos del comportamiento del usuario se almacenan en el archivo `/datasets/music_project_en.csv`. No hay ninguna información sobre la calidad de los datos, así que necesitarás examinarlos antes de probar la hipótesis.\n",
    "\n",
    "Primero, evaluarás la calidad de los datos y verás si los problemas son significativos. Entonces, durante el preprocesamiento de datos, tomarás en cuenta los problemas más críticos.\n",
    "\n",
    "Tu proyecto consistirá en tres etapas:\n",
    " 1. Descripción de los datos.\n",
    " 2. Preprocesamiento de datos.\n",
    " 3. Prueba de hipótesis.\n",
    "\n",
    "\n",
    "\n",
    "\n",
    "\n",
    "\n"
   ]
  },
  {
   "cell_type": "markdown",
   "metadata": {
    "id": "hDt6pg-Rw-1U"
   },
   "source": [
    "[Volver a Contenidos](#back)"
   ]
  },
  {
   "cell_type": "markdown",
   "metadata": {
    "id": "Ml1hmfXC_Zcs"
   },
   "source": [
    "## Etapa 1. Descripción de los datos <a id='data_review'></a>\n",
    "\n",
    "Abre los datos y examínalos."
   ]
  },
  {
   "cell_type": "markdown",
   "metadata": {
    "id": "57eAOGIz_Zcs"
   },
   "source": [
    "Necesitarás `pandas`, así que impórtalo."
   ]
  },
  {
   "cell_type": "code",
   "execution_count": 1,
   "metadata": {
    "id": "AXN7PHPN_Zcs",
    "trusted": false
   },
   "outputs": [],
   "source": [
    "import pandas as pd\n"
   ]
  },
  {
   "cell_type": "markdown",
   "metadata": {
    "id": "SG23P8tt_Zcs"
   },
   "source": [
    "Lee el archivo `music_project_en.csv` de la carpeta `/datasets/` y guárdalo en la variable `df`:"
   ]
  },
  {
   "cell_type": "code",
   "execution_count": 2,
   "metadata": {
    "id": "fFVu7vqh_Zct",
    "trusted": false
   },
   "outputs": [
    {
     "ename": "FileNotFoundError",
     "evalue": "[Errno 2] No such file or directory: '/datasets/music_project_en.csv'",
     "output_type": "error",
     "traceback": [
      "\u001b[31m---------------------------------------------------------------------------\u001b[39m",
      "\u001b[31mFileNotFoundError\u001b[39m                         Traceback (most recent call last)",
      "\u001b[36mCell\u001b[39m\u001b[36m \u001b[39m\u001b[32mIn[2]\u001b[39m\u001b[32m, line 2\u001b[39m\n\u001b[32m      1\u001b[39m \u001b[38;5;66;03m# Leer el archivo y almacenarlo en df\u001b[39;00m\n\u001b[32m----> \u001b[39m\u001b[32m2\u001b[39m df = \u001b[43mpd\u001b[49m\u001b[43m.\u001b[49m\u001b[43mread_csv\u001b[49m\u001b[43m(\u001b[49m\u001b[33;43m\"\u001b[39;49m\u001b[33;43m/datasets/music_project_en.csv\u001b[39;49m\u001b[33;43m\"\u001b[39;49m\u001b[43m)\u001b[49m\n",
      "\u001b[36mFile \u001b[39m\u001b[32mc:\\Users\\tiddy\\OneDrive\\Documentos\\Pandas.app\\myenv\\Lib\\site-packages\\pandas\\io\\parsers\\readers.py:1026\u001b[39m, in \u001b[36mread_csv\u001b[39m\u001b[34m(filepath_or_buffer, sep, delimiter, header, names, index_col, usecols, dtype, engine, converters, true_values, false_values, skipinitialspace, skiprows, skipfooter, nrows, na_values, keep_default_na, na_filter, verbose, skip_blank_lines, parse_dates, infer_datetime_format, keep_date_col, date_parser, date_format, dayfirst, cache_dates, iterator, chunksize, compression, thousands, decimal, lineterminator, quotechar, quoting, doublequote, escapechar, comment, encoding, encoding_errors, dialect, on_bad_lines, delim_whitespace, low_memory, memory_map, float_precision, storage_options, dtype_backend)\u001b[39m\n\u001b[32m   1013\u001b[39m kwds_defaults = _refine_defaults_read(\n\u001b[32m   1014\u001b[39m     dialect,\n\u001b[32m   1015\u001b[39m     delimiter,\n\u001b[32m   (...)\u001b[39m\u001b[32m   1022\u001b[39m     dtype_backend=dtype_backend,\n\u001b[32m   1023\u001b[39m )\n\u001b[32m   1024\u001b[39m kwds.update(kwds_defaults)\n\u001b[32m-> \u001b[39m\u001b[32m1026\u001b[39m \u001b[38;5;28;01mreturn\u001b[39;00m \u001b[43m_read\u001b[49m\u001b[43m(\u001b[49m\u001b[43mfilepath_or_buffer\u001b[49m\u001b[43m,\u001b[49m\u001b[43m \u001b[49m\u001b[43mkwds\u001b[49m\u001b[43m)\u001b[49m\n",
      "\u001b[36mFile \u001b[39m\u001b[32mc:\\Users\\tiddy\\OneDrive\\Documentos\\Pandas.app\\myenv\\Lib\\site-packages\\pandas\\io\\parsers\\readers.py:620\u001b[39m, in \u001b[36m_read\u001b[39m\u001b[34m(filepath_or_buffer, kwds)\u001b[39m\n\u001b[32m    617\u001b[39m _validate_names(kwds.get(\u001b[33m\"\u001b[39m\u001b[33mnames\u001b[39m\u001b[33m\"\u001b[39m, \u001b[38;5;28;01mNone\u001b[39;00m))\n\u001b[32m    619\u001b[39m \u001b[38;5;66;03m# Create the parser.\u001b[39;00m\n\u001b[32m--> \u001b[39m\u001b[32m620\u001b[39m parser = \u001b[43mTextFileReader\u001b[49m\u001b[43m(\u001b[49m\u001b[43mfilepath_or_buffer\u001b[49m\u001b[43m,\u001b[49m\u001b[43m \u001b[49m\u001b[43m*\u001b[49m\u001b[43m*\u001b[49m\u001b[43mkwds\u001b[49m\u001b[43m)\u001b[49m\n\u001b[32m    622\u001b[39m \u001b[38;5;28;01mif\u001b[39;00m chunksize \u001b[38;5;129;01mor\u001b[39;00m iterator:\n\u001b[32m    623\u001b[39m     \u001b[38;5;28;01mreturn\u001b[39;00m parser\n",
      "\u001b[36mFile \u001b[39m\u001b[32mc:\\Users\\tiddy\\OneDrive\\Documentos\\Pandas.app\\myenv\\Lib\\site-packages\\pandas\\io\\parsers\\readers.py:1620\u001b[39m, in \u001b[36mTextFileReader.__init__\u001b[39m\u001b[34m(self, f, engine, **kwds)\u001b[39m\n\u001b[32m   1617\u001b[39m     \u001b[38;5;28mself\u001b[39m.options[\u001b[33m\"\u001b[39m\u001b[33mhas_index_names\u001b[39m\u001b[33m\"\u001b[39m] = kwds[\u001b[33m\"\u001b[39m\u001b[33mhas_index_names\u001b[39m\u001b[33m\"\u001b[39m]\n\u001b[32m   1619\u001b[39m \u001b[38;5;28mself\u001b[39m.handles: IOHandles | \u001b[38;5;28;01mNone\u001b[39;00m = \u001b[38;5;28;01mNone\u001b[39;00m\n\u001b[32m-> \u001b[39m\u001b[32m1620\u001b[39m \u001b[38;5;28mself\u001b[39m._engine = \u001b[38;5;28;43mself\u001b[39;49m\u001b[43m.\u001b[49m\u001b[43m_make_engine\u001b[49m\u001b[43m(\u001b[49m\u001b[43mf\u001b[49m\u001b[43m,\u001b[49m\u001b[43m \u001b[49m\u001b[38;5;28;43mself\u001b[39;49m\u001b[43m.\u001b[49m\u001b[43mengine\u001b[49m\u001b[43m)\u001b[49m\n",
      "\u001b[36mFile \u001b[39m\u001b[32mc:\\Users\\tiddy\\OneDrive\\Documentos\\Pandas.app\\myenv\\Lib\\site-packages\\pandas\\io\\parsers\\readers.py:1880\u001b[39m, in \u001b[36mTextFileReader._make_engine\u001b[39m\u001b[34m(self, f, engine)\u001b[39m\n\u001b[32m   1878\u001b[39m     \u001b[38;5;28;01mif\u001b[39;00m \u001b[33m\"\u001b[39m\u001b[33mb\u001b[39m\u001b[33m\"\u001b[39m \u001b[38;5;129;01mnot\u001b[39;00m \u001b[38;5;129;01min\u001b[39;00m mode:\n\u001b[32m   1879\u001b[39m         mode += \u001b[33m\"\u001b[39m\u001b[33mb\u001b[39m\u001b[33m\"\u001b[39m\n\u001b[32m-> \u001b[39m\u001b[32m1880\u001b[39m \u001b[38;5;28mself\u001b[39m.handles = \u001b[43mget_handle\u001b[49m\u001b[43m(\u001b[49m\n\u001b[32m   1881\u001b[39m \u001b[43m    \u001b[49m\u001b[43mf\u001b[49m\u001b[43m,\u001b[49m\n\u001b[32m   1882\u001b[39m \u001b[43m    \u001b[49m\u001b[43mmode\u001b[49m\u001b[43m,\u001b[49m\n\u001b[32m   1883\u001b[39m \u001b[43m    \u001b[49m\u001b[43mencoding\u001b[49m\u001b[43m=\u001b[49m\u001b[38;5;28;43mself\u001b[39;49m\u001b[43m.\u001b[49m\u001b[43moptions\u001b[49m\u001b[43m.\u001b[49m\u001b[43mget\u001b[49m\u001b[43m(\u001b[49m\u001b[33;43m\"\u001b[39;49m\u001b[33;43mencoding\u001b[39;49m\u001b[33;43m\"\u001b[39;49m\u001b[43m,\u001b[49m\u001b[43m \u001b[49m\u001b[38;5;28;43;01mNone\u001b[39;49;00m\u001b[43m)\u001b[49m\u001b[43m,\u001b[49m\n\u001b[32m   1884\u001b[39m \u001b[43m    \u001b[49m\u001b[43mcompression\u001b[49m\u001b[43m=\u001b[49m\u001b[38;5;28;43mself\u001b[39;49m\u001b[43m.\u001b[49m\u001b[43moptions\u001b[49m\u001b[43m.\u001b[49m\u001b[43mget\u001b[49m\u001b[43m(\u001b[49m\u001b[33;43m\"\u001b[39;49m\u001b[33;43mcompression\u001b[39;49m\u001b[33;43m\"\u001b[39;49m\u001b[43m,\u001b[49m\u001b[43m \u001b[49m\u001b[38;5;28;43;01mNone\u001b[39;49;00m\u001b[43m)\u001b[49m\u001b[43m,\u001b[49m\n\u001b[32m   1885\u001b[39m \u001b[43m    \u001b[49m\u001b[43mmemory_map\u001b[49m\u001b[43m=\u001b[49m\u001b[38;5;28;43mself\u001b[39;49m\u001b[43m.\u001b[49m\u001b[43moptions\u001b[49m\u001b[43m.\u001b[49m\u001b[43mget\u001b[49m\u001b[43m(\u001b[49m\u001b[33;43m\"\u001b[39;49m\u001b[33;43mmemory_map\u001b[39;49m\u001b[33;43m\"\u001b[39;49m\u001b[43m,\u001b[49m\u001b[43m \u001b[49m\u001b[38;5;28;43;01mFalse\u001b[39;49;00m\u001b[43m)\u001b[49m\u001b[43m,\u001b[49m\n\u001b[32m   1886\u001b[39m \u001b[43m    \u001b[49m\u001b[43mis_text\u001b[49m\u001b[43m=\u001b[49m\u001b[43mis_text\u001b[49m\u001b[43m,\u001b[49m\n\u001b[32m   1887\u001b[39m \u001b[43m    \u001b[49m\u001b[43merrors\u001b[49m\u001b[43m=\u001b[49m\u001b[38;5;28;43mself\u001b[39;49m\u001b[43m.\u001b[49m\u001b[43moptions\u001b[49m\u001b[43m.\u001b[49m\u001b[43mget\u001b[49m\u001b[43m(\u001b[49m\u001b[33;43m\"\u001b[39;49m\u001b[33;43mencoding_errors\u001b[39;49m\u001b[33;43m\"\u001b[39;49m\u001b[43m,\u001b[49m\u001b[43m \u001b[49m\u001b[33;43m\"\u001b[39;49m\u001b[33;43mstrict\u001b[39;49m\u001b[33;43m\"\u001b[39;49m\u001b[43m)\u001b[49m\u001b[43m,\u001b[49m\n\u001b[32m   1888\u001b[39m \u001b[43m    \u001b[49m\u001b[43mstorage_options\u001b[49m\u001b[43m=\u001b[49m\u001b[38;5;28;43mself\u001b[39;49m\u001b[43m.\u001b[49m\u001b[43moptions\u001b[49m\u001b[43m.\u001b[49m\u001b[43mget\u001b[49m\u001b[43m(\u001b[49m\u001b[33;43m\"\u001b[39;49m\u001b[33;43mstorage_options\u001b[39;49m\u001b[33;43m\"\u001b[39;49m\u001b[43m,\u001b[49m\u001b[43m \u001b[49m\u001b[38;5;28;43;01mNone\u001b[39;49;00m\u001b[43m)\u001b[49m\u001b[43m,\u001b[49m\n\u001b[32m   1889\u001b[39m \u001b[43m\u001b[49m\u001b[43m)\u001b[49m\n\u001b[32m   1890\u001b[39m \u001b[38;5;28;01massert\u001b[39;00m \u001b[38;5;28mself\u001b[39m.handles \u001b[38;5;129;01mis\u001b[39;00m \u001b[38;5;129;01mnot\u001b[39;00m \u001b[38;5;28;01mNone\u001b[39;00m\n\u001b[32m   1891\u001b[39m f = \u001b[38;5;28mself\u001b[39m.handles.handle\n",
      "\u001b[36mFile \u001b[39m\u001b[32mc:\\Users\\tiddy\\OneDrive\\Documentos\\Pandas.app\\myenv\\Lib\\site-packages\\pandas\\io\\common.py:873\u001b[39m, in \u001b[36mget_handle\u001b[39m\u001b[34m(path_or_buf, mode, encoding, compression, memory_map, is_text, errors, storage_options)\u001b[39m\n\u001b[32m    868\u001b[39m \u001b[38;5;28;01melif\u001b[39;00m \u001b[38;5;28misinstance\u001b[39m(handle, \u001b[38;5;28mstr\u001b[39m):\n\u001b[32m    869\u001b[39m     \u001b[38;5;66;03m# Check whether the filename is to be opened in binary mode.\u001b[39;00m\n\u001b[32m    870\u001b[39m     \u001b[38;5;66;03m# Binary mode does not support 'encoding' and 'newline'.\u001b[39;00m\n\u001b[32m    871\u001b[39m     \u001b[38;5;28;01mif\u001b[39;00m ioargs.encoding \u001b[38;5;129;01mand\u001b[39;00m \u001b[33m\"\u001b[39m\u001b[33mb\u001b[39m\u001b[33m\"\u001b[39m \u001b[38;5;129;01mnot\u001b[39;00m \u001b[38;5;129;01min\u001b[39;00m ioargs.mode:\n\u001b[32m    872\u001b[39m         \u001b[38;5;66;03m# Encoding\u001b[39;00m\n\u001b[32m--> \u001b[39m\u001b[32m873\u001b[39m         handle = \u001b[38;5;28;43mopen\u001b[39;49m\u001b[43m(\u001b[49m\n\u001b[32m    874\u001b[39m \u001b[43m            \u001b[49m\u001b[43mhandle\u001b[49m\u001b[43m,\u001b[49m\n\u001b[32m    875\u001b[39m \u001b[43m            \u001b[49m\u001b[43mioargs\u001b[49m\u001b[43m.\u001b[49m\u001b[43mmode\u001b[49m\u001b[43m,\u001b[49m\n\u001b[32m    876\u001b[39m \u001b[43m            \u001b[49m\u001b[43mencoding\u001b[49m\u001b[43m=\u001b[49m\u001b[43mioargs\u001b[49m\u001b[43m.\u001b[49m\u001b[43mencoding\u001b[49m\u001b[43m,\u001b[49m\n\u001b[32m    877\u001b[39m \u001b[43m            \u001b[49m\u001b[43merrors\u001b[49m\u001b[43m=\u001b[49m\u001b[43merrors\u001b[49m\u001b[43m,\u001b[49m\n\u001b[32m    878\u001b[39m \u001b[43m            \u001b[49m\u001b[43mnewline\u001b[49m\u001b[43m=\u001b[49m\u001b[33;43m\"\u001b[39;49m\u001b[33;43m\"\u001b[39;49m\u001b[43m,\u001b[49m\n\u001b[32m    879\u001b[39m \u001b[43m        \u001b[49m\u001b[43m)\u001b[49m\n\u001b[32m    880\u001b[39m     \u001b[38;5;28;01melse\u001b[39;00m:\n\u001b[32m    881\u001b[39m         \u001b[38;5;66;03m# Binary mode\u001b[39;00m\n\u001b[32m    882\u001b[39m         handle = \u001b[38;5;28mopen\u001b[39m(handle, ioargs.mode)\n",
      "\u001b[31mFileNotFoundError\u001b[39m: [Errno 2] No such file or directory: '/datasets/music_project_en.csv'"
     ]
    }
   ],
   "source": [
    "# Leer el archivo y almacenarlo en df\n",
    "df = pd.read_csv(\"/datasets/music_project_en.csv\")"
   ]
  },
  {
   "cell_type": "markdown",
   "metadata": {
    "id": "rDoOMd3uTqnZ"
   },
   "source": [
    "Muestra las 10 primeras filas de la tabla:"
   ]
  },
  {
   "cell_type": "code",
   "execution_count": null,
   "metadata": {
    "id": "oWTVX3gW_Zct",
    "trusted": false
   },
   "outputs": [
    {
     "data": {
      "text/html": [
       "<div>\n",
       "<style scoped>\n",
       "    .dataframe tbody tr th:only-of-type {\n",
       "        vertical-align: middle;\n",
       "    }\n",
       "\n",
       "    .dataframe tbody tr th {\n",
       "        vertical-align: top;\n",
       "    }\n",
       "\n",
       "    .dataframe thead th {\n",
       "        text-align: right;\n",
       "    }\n",
       "</style>\n",
       "<table border=\"1\" class=\"dataframe\">\n",
       "  <thead>\n",
       "    <tr style=\"text-align: right;\">\n",
       "      <th></th>\n",
       "      <th>userID</th>\n",
       "      <th>Track</th>\n",
       "      <th>artist</th>\n",
       "      <th>genre</th>\n",
       "      <th>City</th>\n",
       "      <th>time</th>\n",
       "      <th>Day</th>\n",
       "    </tr>\n",
       "  </thead>\n",
       "  <tbody>\n",
       "    <tr>\n",
       "      <th>0</th>\n",
       "      <td>FFB692EC</td>\n",
       "      <td>Kamigata To Boots</td>\n",
       "      <td>The Mass Missile</td>\n",
       "      <td>rock</td>\n",
       "      <td>Shelbyville</td>\n",
       "      <td>20:28:33</td>\n",
       "      <td>Wednesday</td>\n",
       "    </tr>\n",
       "    <tr>\n",
       "      <th>1</th>\n",
       "      <td>55204538</td>\n",
       "      <td>Delayed Because of Accident</td>\n",
       "      <td>Andreas Rönnberg</td>\n",
       "      <td>rock</td>\n",
       "      <td>Springfield</td>\n",
       "      <td>14:07:09</td>\n",
       "      <td>Friday</td>\n",
       "    </tr>\n",
       "    <tr>\n",
       "      <th>2</th>\n",
       "      <td>20EC38</td>\n",
       "      <td>Funiculì funiculà</td>\n",
       "      <td>Mario Lanza</td>\n",
       "      <td>pop</td>\n",
       "      <td>Shelbyville</td>\n",
       "      <td>20:58:07</td>\n",
       "      <td>Wednesday</td>\n",
       "    </tr>\n",
       "    <tr>\n",
       "      <th>3</th>\n",
       "      <td>A3DD03C9</td>\n",
       "      <td>Dragons in the Sunset</td>\n",
       "      <td>Fire + Ice</td>\n",
       "      <td>folk</td>\n",
       "      <td>Shelbyville</td>\n",
       "      <td>08:37:09</td>\n",
       "      <td>Monday</td>\n",
       "    </tr>\n",
       "    <tr>\n",
       "      <th>4</th>\n",
       "      <td>E2DC1FAE</td>\n",
       "      <td>Soul People</td>\n",
       "      <td>Space Echo</td>\n",
       "      <td>dance</td>\n",
       "      <td>Springfield</td>\n",
       "      <td>08:34:34</td>\n",
       "      <td>Monday</td>\n",
       "    </tr>\n",
       "    <tr>\n",
       "      <th>5</th>\n",
       "      <td>842029A1</td>\n",
       "      <td>Chains</td>\n",
       "      <td>Obladaet</td>\n",
       "      <td>rusrap</td>\n",
       "      <td>Shelbyville</td>\n",
       "      <td>13:09:41</td>\n",
       "      <td>Friday</td>\n",
       "    </tr>\n",
       "    <tr>\n",
       "      <th>6</th>\n",
       "      <td>4CB90AA5</td>\n",
       "      <td>True</td>\n",
       "      <td>Roman Messer</td>\n",
       "      <td>dance</td>\n",
       "      <td>Springfield</td>\n",
       "      <td>13:00:07</td>\n",
       "      <td>Wednesday</td>\n",
       "    </tr>\n",
       "    <tr>\n",
       "      <th>7</th>\n",
       "      <td>F03E1C1F</td>\n",
       "      <td>Feeling This Way</td>\n",
       "      <td>Polina Griffith</td>\n",
       "      <td>dance</td>\n",
       "      <td>Springfield</td>\n",
       "      <td>20:47:49</td>\n",
       "      <td>Wednesday</td>\n",
       "    </tr>\n",
       "    <tr>\n",
       "      <th>8</th>\n",
       "      <td>8FA1D3BE</td>\n",
       "      <td>L’estate</td>\n",
       "      <td>Julia Dalia</td>\n",
       "      <td>ruspop</td>\n",
       "      <td>Springfield</td>\n",
       "      <td>09:17:40</td>\n",
       "      <td>Friday</td>\n",
       "    </tr>\n",
       "    <tr>\n",
       "      <th>9</th>\n",
       "      <td>E772D5C0</td>\n",
       "      <td>Pessimist</td>\n",
       "      <td>NaN</td>\n",
       "      <td>dance</td>\n",
       "      <td>Shelbyville</td>\n",
       "      <td>21:20:49</td>\n",
       "      <td>Wednesday</td>\n",
       "    </tr>\n",
       "  </tbody>\n",
       "</table>\n",
       "</div>"
      ],
      "text/plain": [
       "     userID                        Track            artist   genre  \\\n",
       "0  FFB692EC            Kamigata To Boots  The Mass Missile    rock   \n",
       "1  55204538  Delayed Because of Accident  Andreas Rönnberg    rock   \n",
       "2    20EC38            Funiculì funiculà       Mario Lanza     pop   \n",
       "3  A3DD03C9        Dragons in the Sunset        Fire + Ice    folk   \n",
       "4  E2DC1FAE                  Soul People        Space Echo   dance   \n",
       "5  842029A1                       Chains          Obladaet  rusrap   \n",
       "6  4CB90AA5                         True      Roman Messer   dance   \n",
       "7  F03E1C1F             Feeling This Way   Polina Griffith   dance   \n",
       "8  8FA1D3BE                     L’estate       Julia Dalia  ruspop   \n",
       "9  E772D5C0                    Pessimist               NaN   dance   \n",
       "\n",
       "        City        time        Day  \n",
       "0  Shelbyville  20:28:33  Wednesday  \n",
       "1  Springfield  14:07:09     Friday  \n",
       "2  Shelbyville  20:58:07  Wednesday  \n",
       "3  Shelbyville  08:37:09     Monday  \n",
       "4  Springfield  08:34:34     Monday  \n",
       "5  Shelbyville  13:09:41     Friday  \n",
       "6  Springfield  13:00:07  Wednesday  \n",
       "7  Springfield  20:47:49  Wednesday  \n",
       "8  Springfield  09:17:40     Friday  \n",
       "9  Shelbyville  21:20:49  Wednesday  "
      ]
     },
     "execution_count": 4,
     "metadata": {},
     "output_type": "execute_result"
    }
   ],
   "source": [
    "df.head(10)\n"
   ]
  },
  {
   "cell_type": "markdown",
   "metadata": {
    "id": "EO73Kwic_Zct"
   },
   "source": [
    "Obtén la información general sobre la tabla con un comando. Conoces el método que muestra la información general que necesitamos."
   ]
  },
  {
   "cell_type": "code",
   "execution_count": null,
   "metadata": {
    "id": "DSf2kIb-_Zct",
    "trusted": false
   },
   "outputs": [
    {
     "name": "stdout",
     "output_type": "stream",
     "text": [
      "<class 'pandas.core.frame.DataFrame'>\n",
      "RangeIndex: 65079 entries, 0 to 65078\n",
      "Data columns (total 7 columns):\n",
      " #   Column    Non-Null Count  Dtype \n",
      "---  ------    --------------  ----- \n",
      " 0     userID  65079 non-null  object\n",
      " 1   Track     63736 non-null  object\n",
      " 2   artist    57512 non-null  object\n",
      " 3   genre     63881 non-null  object\n",
      " 4     City    65079 non-null  object\n",
      " 5   time      65079 non-null  object\n",
      " 6   Day       65079 non-null  object\n",
      "dtypes: object(7)\n",
      "memory usage: 3.5+ MB\n",
      "None\n"
     ]
    }
   ],
   "source": [
    "# Obtener la información general sobre nuestros datos\n",
    "print(df.info())"
   ]
  },
  {
   "cell_type": "markdown",
   "metadata": {
    "id": "TaQ2Iwbr_Zct"
   },
   "source": [
    "Estas son nuestras observaciones sobre la tabla. Contiene siete columnas. Almacenan los mismos tipos de datos: `object`.\n",
    "\n",
    "Según la documentación:\n",
    "- `' userID'`: identificador del usuario o la usuaria;\n",
    "- `'Track'`: título de la canción;\n",
    "- `'artist'`: nombre del artista;\n",
    "- `'genre'`: género de la pista;\n",
    "- `'City'`: ciudad del usuario o la usuaria;\n",
    "- `'time'`: la hora exacta en la que se reprodujo la canción;\n",
    "- `'Day'`: día de la semana.\n",
    "\n",
    "Podemos ver tres problemas con el estilo en los encabezados de la tabla:\n",
    "1. Algunos encabezados están en mayúsculas, otros en minúsculas.\n",
    "2. Hay espacios en algunos encabezados.\n",
    "3. Hay valores ausentes en las columnas \"Track\", \"Artist\" y \"Genre\". \n",
    "\n",
    "\n"
   ]
  },
  {
   "cell_type": "markdown",
   "metadata": {
    "id": "MCB6-dXG_Zct"
   },
   "source": [
    "### Escribe observaciones de tu parte. Estas son algunas de las preguntas que pueden ser útiles: <a id='data_review_conclusions'></a>\n",
    "\n",
    "`1.   ¿Qué tipo de datos tenemos a nuestra disposición en las filas? ¿Y cómo podemos entender lo que almacenan las columnas?`\n",
    "Disponemos de datos tipo string y de integers que corresponden a lod datos adecuados para cada columna. \n",
    "\n",
    "`2.   ¿Hay suficientes datos para proporcionar respuestas a nuestra hipótesis o necesitamos más información?`\n",
    "Sí, hay suficiente información porque disponemos del tiempo y día en que ambas ciudades escuchan música. Así como también podríamos distinguir gustos musicales por ciudad, artistas favoritos y canciones más reproducidas. \n",
    "\n",
    "`3.   ¿Notaste algún problema en los datos, como valores ausentes, duplicados o tipos de datos incorrectos?\n",
    "Hay datos ausentes en las columnas \"Track\", \"Artist\" y \"Genre\". Igualmente hay valores que tienen espacios y no permiten una lectura adecuada de los datos para su análisis. "
   ]
  },
  {
   "cell_type": "markdown",
   "metadata": {
    "id": "3eL__vcwViOi"
   },
   "source": [
    "[Volver a Contenidos](#back)"
   ]
  },
  {
   "cell_type": "markdown",
   "metadata": {
    "id": "SjYF6Ub9_Zct"
   },
   "source": [
    "## Etapa 2. Preprocesamiento de datos <a id='data_preprocessing'></a>\n",
    "\n",
    "El objetivo aquí es preparar los datos para que sean analizados.\n",
    "El primer paso es resolver cualquier problema con los encabezados. Luego podemos avanzar a los valores ausentes y duplicados. Empecemos.\n",
    "\n",
    "Corrige el formato en los encabezados de la tabla.\n"
   ]
  },
  {
   "cell_type": "markdown",
   "metadata": {
    "id": "dIaKXr29_Zct"
   },
   "source": [
    "### Estilo del encabezado <a id='header_style'></a>\n",
    "Muestra los encabezados de la tabla (los nombres de las columnas):"
   ]
  },
  {
   "cell_type": "code",
   "execution_count": null,
   "metadata": {
    "id": "oKOTdF_Q_Zct",
    "trusted": false
   },
   "outputs": [
    {
     "name": "stdout",
     "output_type": "stream",
     "text": [
      "Index(['  userID', 'Track', 'artist', 'genre', '  City  ', 'time', 'Day'], dtype='object')\n"
     ]
    }
   ],
   "source": [
    "# Muestra los nombres de las columnas\n",
    "print(df.columns)\n"
   ]
  },
  {
   "cell_type": "markdown",
   "metadata": {
    "id": "zj5534cv_Zct"
   },
   "source": [
    "Cambia los encabezados de la tabla de acuerdo con las reglas del buen estilo:\n",
    "* Todos los caracteres deben ser minúsculas.\n",
    "* Elimina los espacios.\n",
    "* Si el nombre tiene varias palabras, utiliza snake_case."
   ]
  },
  {
   "cell_type": "markdown",
   "metadata": {
    "id": "Xu0zkfe5zNJe"
   },
   "source": [
    "Anteriormente, aprendiste acerca de la forma automática de cambiar el nombre de las columnas. Vamos a aplicarla ahora. Utiliza el bucle for para iterar sobre los nombres de las columnas y poner todos los caracteres en minúsculas. Cuando hayas terminado, vuelve a mostrar los encabezados de la tabla:"
   ]
  },
  {
   "cell_type": "code",
   "execution_count": null,
   "metadata": {
    "id": "6I_RwwMhzM4e",
    "trusted": false
   },
   "outputs": [
    {
     "name": "stdout",
     "output_type": "stream",
     "text": [
      "['  userid', 'track', 'artist', 'genre', '  city  ', 'time', 'day']\n"
     ]
    }
   ],
   "source": [
    "# Bucle en los encabezados poniendo todo en minúsculas\n",
    "new_col_names = []\n",
    "for columns in df.columns:\n",
    "    lowered_columns = columns.lower()\n",
    "    new_col_names.append(lowered_columns)\n",
    "  \n",
    "print(new_col_names)"
   ]
  },
  {
   "cell_type": "markdown",
   "metadata": {
    "id": "pweIRxjSzPYW"
   },
   "source": [
    "Ahora, utilizando el mismo método, elimina los espacios al principio y al final de los nombres de las columnas e imprime los nombres de las columnas nuevamente:"
   ]
  },
  {
   "cell_type": "code",
   "execution_count": null,
   "metadata": {
    "id": "vVQXbFyJzSYl",
    "trusted": false
   },
   "outputs": [
    {
     "name": "stdout",
     "output_type": "stream",
     "text": [
      "Index(['userid', 'track', 'artist', 'genre', 'city', 'time', 'day'], dtype='object')\n"
     ]
    }
   ],
   "source": [
    "# Bucle en los encabezados eliminando los espacios\n",
    "new_col_names = []\n",
    "for columns in df.columns:\n",
    "    lowered_columns = columns.lower()\n",
    "    stripped_columns = lowered_columns.strip()\n",
    "    new_col_names.append(stripped_columns)\n",
    "df.columns = new_col_names\n",
    "print(df.columns)"
   ]
  },
  {
   "cell_type": "markdown",
   "metadata": {
    "id": "yCb8MW1JzURd"
   },
   "source": [
    "Necesitamos aplicar la regla de snake_case a la columna `userid`. Debe ser `user_id`. Cambia el nombre de esta columna y muestra los nombres de todas las columnas cuando hayas terminado."
   ]
  },
  {
   "cell_type": "code",
   "execution_count": null,
   "metadata": {
    "id": "ISlFqs5y_Zct",
    "trusted": false
   },
   "outputs": [
    {
     "name": "stdout",
     "output_type": "stream",
     "text": [
      "Index(['user_id', 'track', 'artist', 'genre', 'city', 'time', 'day'], dtype='object')\n"
     ]
    }
   ],
   "source": [
    "# Cambiar el nombre de la columna \"userid\"\n",
    "\n",
    "df.rename(columns={\"userid\": \"user_id\"}, inplace=True)\n",
    "\n",
    "print(df.columns)\n"
   ]
  },
  {
   "cell_type": "markdown",
   "metadata": {
    "id": "1dqbh00J_Zct"
   },
   "source": [
    "Comprueba el resultado. Muestra los encabezados una vez más:"
   ]
  },
  {
   "cell_type": "code",
   "execution_count": null,
   "metadata": {
    "id": "d4NOAmTW_Zct",
    "trusted": false
   },
   "outputs": [
    {
     "name": "stdout",
     "output_type": "stream",
     "text": [
      "Index(['user_id', 'track', 'artist', 'genre', 'city', 'time', 'day'], dtype='object')\n"
     ]
    }
   ],
   "source": [
    "# Comprobar el resultado: la lista de encabezados\n",
    "print(df.columns)"
   ]
  },
  {
   "cell_type": "markdown",
   "metadata": {
    "id": "xYJk6ksJVpOl"
   },
   "source": [
    "[Volver a Contenidos](#back)"
   ]
  },
  {
   "cell_type": "markdown",
   "metadata": {
    "id": "5ISfbcfY_Zct"
   },
   "source": [
    "### Valores ausentes <a id='missing_values'></a>\n",
    " Primero, encuentra el número de valores ausentes en la tabla. Debes utilizar dos métodos en una secuencia para obtener el número de valores ausentes."
   ]
  },
  {
   "cell_type": "code",
   "execution_count": null,
   "metadata": {
    "id": "RskX29qr_Zct",
    "trusted": false
   },
   "outputs": [
    {
     "name": "stdout",
     "output_type": "stream",
     "text": [
      "user_id       0\n",
      "track      1343\n",
      "artist     7567\n",
      "genre      1198\n",
      "city          0\n",
      "time          0\n",
      "day           0\n",
      "dtype: int64\n"
     ]
    }
   ],
   "source": [
    "# Calcular el número de valores ausentes\n",
    "print(df.isna().sum())"
   ]
  },
  {
   "cell_type": "markdown",
   "metadata": {
    "id": "qubhgnlO_Zct"
   },
   "source": [
    "No todos los valores ausentes afectan a la investigación. Por ejemplo, los valores ausentes en `track` y `artist` no son cruciales. Simplemente puedes reemplazarlos con valores predeterminados como el string `'unknown'` (desconocido).\n",
    "\n",
    "Pero los valores ausentes en `'genre'` pueden afectar la comparación entre las preferencias musicales de Springfield y Shelbyville. En la vida real, sería útil saber las razones por las cuales hay datos ausentes e intentar recuperarlos. Pero no tenemos esa oportunidad en este proyecto. Así que tendrás que:\n",
    "* rellenar estos valores ausentes con un valor predeterminado;\n",
    "* evaluar cuánto podrían afectar los valores ausentes a tus cómputos;"
   ]
  },
  {
   "cell_type": "markdown",
   "metadata": {
    "id": "fSv2laPA_Zct"
   },
   "source": [
    "Reemplazar los valores ausentes en las columnas `'track'`, `'artist'` y `'genre'` con el string `'unknown'`. Como mostramos anteriormente en las lecciones, la mejor forma de hacerlo es crear una lista que almacene los nombres de las columnas donde se necesita el reemplazo. Luego, utiliza esta lista e itera sobre las columnas donde se necesita el reemplazo haciendo el propio reemplazo."
   ]
  },
  {
   "cell_type": "code",
   "execution_count": null,
   "metadata": {
    "id": "KplB5qWs_Zct",
    "trusted": false
   },
   "outputs": [],
   "source": [
    "# Bucle en los encabezados reemplazando los valores ausentes con 'unknown'\n",
    "columns_to_replace = [\"track\",\"artist\",\"genre\"]\n",
    "\n",
    "for col in columns_to_replace: \n",
    "    df[col].fillna(\"unknown\", inplace=True)\n",
    "\n"
   ]
  },
  {
   "cell_type": "markdown",
   "metadata": {
    "id": "Ilsm-MZo_Zct"
   },
   "source": [
    "Ahora comprueba el resultado para asegurarte de que después del reemplazo no haya valores ausentes en el conjunto de datos. Para hacer esto, cuenta los valores ausentes nuevamente."
   ]
  },
  {
   "cell_type": "code",
   "execution_count": null,
   "metadata": {
    "id": "Tq4nYRX4_Zct",
    "trusted": false
   },
   "outputs": [
    {
     "name": "stdout",
     "output_type": "stream",
     "text": [
      "user_id    0\n",
      "track      0\n",
      "artist     0\n",
      "genre      0\n",
      "city       0\n",
      "time       0\n",
      "day        0\n",
      "dtype: int64\n"
     ]
    }
   ],
   "source": [
    "# Contar valores ausentes\n",
    "print(df.isna().sum())"
   ]
  },
  {
   "cell_type": "markdown",
   "metadata": {
    "id": "74ZIBmq9VrsK"
   },
   "source": [
    "[Volver a Contenidos](#back)"
   ]
  },
  {
   "cell_type": "markdown",
   "metadata": {
    "id": "BWKRtBJ3_Zct"
   },
   "source": [
    "### Duplicados <a id='duplicates'></a>\n",
    "Encuentra el número de duplicados explícitos en la tabla. Una vez más, debes aplicar dos métodos en una secuencia para obtener la cantidad de duplicados explícitos."
   ]
  },
  {
   "cell_type": "code",
   "execution_count": null,
   "metadata": {
    "id": "36eES_S0_Zct",
    "trusted": false
   },
   "outputs": [
    {
     "name": "stdout",
     "output_type": "stream",
     "text": [
      "3826\n"
     ]
    }
   ],
   "source": [
    "# Contar duplicados explícitos\n",
    "print(df.duplicated().sum())\n"
   ]
  },
  {
   "cell_type": "markdown",
   "metadata": {
    "id": "Ot25h6XR_Zct"
   },
   "source": [
    "Ahora, elimina todos los duplicados. Para ello, llama al método que hace exactamente esto."
   ]
  },
  {
   "cell_type": "code",
   "execution_count": null,
   "metadata": {
    "id": "exFHq6tt_Zct",
    "trusted": false
   },
   "outputs": [],
   "source": [
    "df.drop_duplicates(inplace=True)"
   ]
  },
  {
   "cell_type": "markdown",
   "metadata": {
    "id": "Im2YwBEG_Zct"
   },
   "source": [
    "Comprobemos ahora si eliminamos con éxito todos los duplicados. Cuenta los duplicados explícitos una vez más para asegurarte de haberlos eliminado todos:"
   ]
  },
  {
   "cell_type": "code",
   "execution_count": null,
   "metadata": {
    "id": "-8PuNWQ0_Zct",
    "trusted": false
   },
   "outputs": [
    {
     "name": "stdout",
     "output_type": "stream",
     "text": [
      "0\n"
     ]
    }
   ],
   "source": [
    "# Comprobar de nuevo si hay duplicados\n",
    "\n",
    "print(df.duplicated().sum())"
   ]
  },
  {
   "cell_type": "markdown",
   "metadata": {
    "id": "QlFBsxAr_Zct"
   },
   "source": [
    "Ahora queremos deshacernos de los duplicados implícitos en la columna `genre`. Por ejemplo, el nombre de un género se puede escribir de varias formas. Dichos errores también pueden afectar al resultado."
   ]
  },
  {
   "cell_type": "markdown",
   "metadata": {
    "id": "eSjWwsOh_Zct"
   },
   "source": [
    "Para hacerlo, primero mostremos una lista de nombres de género únicos, ordenados en orden alfabético. Para ello:\n",
    "* Extrae la columna `genre` del DataFrame.\n",
    "* Llama al método que devolverá todos los valores únicos en la columna extraída.\n"
   ]
  },
  {
   "cell_type": "code",
   "execution_count": null,
   "metadata": {
    "id": "JIUcqzZN_Zct",
    "trusted": false
   },
   "outputs": [
    {
     "data": {
      "text/plain": [
       "array(['acid', 'acoustic', 'action', 'adult', 'africa', 'afrikaans',\n",
       "       'alternative', 'ambient', 'americana', 'animated', 'anime',\n",
       "       'arabesk', 'arabic', 'arena', 'argentinetango', 'art', 'audiobook',\n",
       "       'avantgarde', 'axé', 'baile', 'balkan', 'beats', 'bigroom',\n",
       "       'black', 'bluegrass', 'blues', 'bollywood', 'bossa', 'brazilian',\n",
       "       'breakbeat', 'breaks', 'broadway', 'cantautori', 'cantopop',\n",
       "       'canzone', 'caribbean', 'caucasian', 'celtic', 'chamber',\n",
       "       'children', 'chill', 'chinese', 'choral', 'christian', 'christmas',\n",
       "       'classical', 'classicmetal', 'club', 'colombian', 'comedy',\n",
       "       'conjazz', 'contemporary', 'country', 'cuban', 'dance',\n",
       "       'dancehall', 'dancepop', 'dark', 'death', 'deep', 'deutschrock',\n",
       "       'deutschspr', 'dirty', 'disco', 'dnb', 'documentary', 'downbeat',\n",
       "       'downtempo', 'drum', 'dub', 'dubstep', 'eastern', 'easy',\n",
       "       'electronic', 'electropop', 'emo', 'entehno', 'epicmetal',\n",
       "       'estrada', 'ethnic', 'eurofolk', 'european', 'experimental',\n",
       "       'extrememetal', 'fado', 'film', 'fitness', 'flamenco', 'folk',\n",
       "       'folklore', 'folkmetal', 'folkrock', 'folktronica', 'forró',\n",
       "       'frankreich', 'französisch', 'french', 'funk', 'future', 'gangsta',\n",
       "       'garage', 'german', 'ghazal', 'gitarre', 'glitch', 'gospel',\n",
       "       'gothic', 'grime', 'grunge', 'gypsy', 'handsup', \"hard'n'heavy\",\n",
       "       'hardcore', 'hardstyle', 'hardtechno', 'hip', 'hip-hop', 'hiphop',\n",
       "       'historisch', 'holiday', 'hop', 'horror', 'house', 'idm',\n",
       "       'independent', 'indian', 'indie', 'indipop', 'industrial',\n",
       "       'inspirational', 'instrumental', 'international', 'irish', 'jam',\n",
       "       'japanese', 'jazz', 'jewish', 'jpop', 'jungle', 'k-pop',\n",
       "       'karadeniz', 'karaoke', 'kayokyoku', 'korean', 'laiko', 'latin',\n",
       "       'latino', 'leftfield', 'local', 'lounge', 'loungeelectronic',\n",
       "       'lovers', 'malaysian', 'mandopop', 'marschmusik', 'meditative',\n",
       "       'mediterranean', 'melodic', 'metal', 'metalcore', 'mexican',\n",
       "       'middle', 'minimal', 'miscellaneous', 'modern', 'mood', 'mpb',\n",
       "       'muslim', 'native', 'neoklassik', 'neue', 'new', 'newage',\n",
       "       'newwave', 'nu', 'nujazz', 'numetal', 'oceania', 'old', 'opera',\n",
       "       'orchestral', 'other', 'piano', 'pop', 'popelectronic',\n",
       "       'popeurodance', 'post', 'posthardcore', 'postrock', 'power',\n",
       "       'progmetal', 'progressive', 'psychedelic', 'punjabi', 'punk',\n",
       "       'quebecois', 'ragga', 'ram', 'rancheras', 'rap', 'rave', 'reggae',\n",
       "       'reggaeton', 'regional', 'relax', 'religious', 'retro', 'rhythm',\n",
       "       'rnb', 'rnr', 'rock', 'rockabilly', 'romance', 'roots', 'ruspop',\n",
       "       'rusrap', 'rusrock', 'salsa', 'samba', 'schlager', 'self',\n",
       "       'sertanejo', 'shoegazing', 'showtunes', 'singer', 'ska', 'slow',\n",
       "       'smooth', 'soul', 'soulful', 'sound', 'soundtrack', 'southern',\n",
       "       'specialty', 'speech', 'spiritual', 'sport', 'stonerrock', 'surf',\n",
       "       'swing', 'synthpop', 'sängerportrait', 'tango', 'tanzorchester',\n",
       "       'taraftar', 'tech', 'techno', 'thrash', 'top', 'traditional',\n",
       "       'tradjazz', 'trance', 'tribal', 'trip', 'triphop', 'tropical',\n",
       "       'türk', 'türkçe', 'unknown', 'urban', 'uzbek', 'variété', 'vi',\n",
       "       'videogame', 'vocal', 'western', 'world', 'worldbeat', 'ïîï'],\n",
       "      dtype=object)"
      ]
     },
     "execution_count": 18,
     "metadata": {},
     "output_type": "execute_result"
    }
   ],
   "source": [
    "# Inspeccionar los nombres de géneros únicos\n",
    "df[\"genre\"].sort_values().unique()"
   ]
  },
  {
   "cell_type": "markdown",
   "metadata": {
    "id": "qej-Qmuo_Zct"
   },
   "source": [
    "Busca en la lista para encontrar duplicados implícitos del género `hiphop`. Estos pueden ser nombres escritos incorrectamente o nombres alternativos para el mismo género.\n",
    "\n",
    "Verás los siguientes duplicados implícitos:\n",
    "* `hip`\n",
    "* `hop`\n",
    "* `hip-hop`\n",
    "\n",
    "Para deshacerte de ellos, crea una función llamada `replace_wrong_genres()` con dos parámetros:\n",
    "* `wrong_genres=`: esta es una lista que contiene todos los valores que necesitas reemplazar.\n",
    "* `correct_genre=`: este es un string que vas a utilizar como reemplazo.\n",
    "\n",
    "Como resultado, la función debería corregir los nombres en la columna `'genre'` de la tabla `df`, es decir, remplazar cada valor de la lista `wrong_genres` por el valor en `correct_genre`.\n",
    "\n",
    "Dentro del cuerpo de la función, utiliza un bucle `'for'` para iterar sobre la lista de géneros incorrectos, extrae la columna `'genre'` y aplica el método `replace` para hacer correcciones."
   ]
  },
  {
   "cell_type": "code",
   "execution_count": null,
   "metadata": {
    "id": "ErNDkmns_Zct",
    "trusted": false
   },
   "outputs": [],
   "source": [
    "# Función para reemplazar duplicados implícitos\n",
    "\n",
    "def replace_wrong_genres(wrong_genres, correct_genre):\n",
    "    for wrong_genre in wrong_genres:\n",
    "        df[\"genre\"] = df[\"genre\"].replace(wrong_genre, correct_genre)\n",
    "    return df"
   ]
  },
  {
   "cell_type": "markdown",
   "metadata": {
    "id": "aDoBJxbA_Zct"
   },
   "source": [
    "Ahora, llama a `replace_wrong_genres()` y pásale tales argumentos para que retire los duplicados implícitos (`hip`, `hop` y `hip-hop`) y los reemplace por `hiphop`:"
   ]
  },
  {
   "cell_type": "code",
   "execution_count": null,
   "metadata": {
    "id": "YN5i2hpmSo09",
    "trusted": false
   },
   "outputs": [],
   "source": [
    "# Eliminar duplicados implícitos\n",
    "wrong_genres = [\"hip\", \"hop\", \"hip-hop\"]\n",
    "correct_genre = \"hiphop\"\n",
    "\n",
    "df = replace_wrong_genres(wrong_genres, correct_genre)"
   ]
  },
  {
   "cell_type": "markdown",
   "metadata": {
    "id": "zQKF16_RG15m"
   },
   "source": [
    "Asegúrate de que los nombres duplicados han sido eliminados. Muestra la lista de valores únicos de la columna `'genre'` una vez más:"
   ]
  },
  {
   "cell_type": "code",
   "execution_count": null,
   "metadata": {
    "id": "wvixALnFG15m",
    "trusted": false
   },
   "outputs": [
    {
     "data": {
      "text/plain": [
       "array(['acid', 'acoustic', 'action', 'adult', 'africa', 'afrikaans',\n",
       "       'alternative', 'ambient', 'americana', 'animated', 'anime',\n",
       "       'arabesk', 'arabic', 'arena', 'argentinetango', 'art', 'audiobook',\n",
       "       'avantgarde', 'axé', 'baile', 'balkan', 'beats', 'bigroom',\n",
       "       'black', 'bluegrass', 'blues', 'bollywood', 'bossa', 'brazilian',\n",
       "       'breakbeat', 'breaks', 'broadway', 'cantautori', 'cantopop',\n",
       "       'canzone', 'caribbean', 'caucasian', 'celtic', 'chamber',\n",
       "       'children', 'chill', 'chinese', 'choral', 'christian', 'christmas',\n",
       "       'classical', 'classicmetal', 'club', 'colombian', 'comedy',\n",
       "       'conjazz', 'contemporary', 'country', 'cuban', 'dance',\n",
       "       'dancehall', 'dancepop', 'dark', 'death', 'deep', 'deutschrock',\n",
       "       'deutschspr', 'dirty', 'disco', 'dnb', 'documentary', 'downbeat',\n",
       "       'downtempo', 'drum', 'dub', 'dubstep', 'eastern', 'easy',\n",
       "       'electronic', 'electropop', 'emo', 'entehno', 'epicmetal',\n",
       "       'estrada', 'ethnic', 'eurofolk', 'european', 'experimental',\n",
       "       'extrememetal', 'fado', 'film', 'fitness', 'flamenco', 'folk',\n",
       "       'folklore', 'folkmetal', 'folkrock', 'folktronica', 'forró',\n",
       "       'frankreich', 'französisch', 'french', 'funk', 'future', 'gangsta',\n",
       "       'garage', 'german', 'ghazal', 'gitarre', 'glitch', 'gospel',\n",
       "       'gothic', 'grime', 'grunge', 'gypsy', 'handsup', \"hard'n'heavy\",\n",
       "       'hardcore', 'hardstyle', 'hardtechno', 'hiphop', 'historisch',\n",
       "       'holiday', 'horror', 'house', 'idm', 'independent', 'indian',\n",
       "       'indie', 'indipop', 'industrial', 'inspirational', 'instrumental',\n",
       "       'international', 'irish', 'jam', 'japanese', 'jazz', 'jewish',\n",
       "       'jpop', 'jungle', 'k-pop', 'karadeniz', 'karaoke', 'kayokyoku',\n",
       "       'korean', 'laiko', 'latin', 'latino', 'leftfield', 'local',\n",
       "       'lounge', 'loungeelectronic', 'lovers', 'malaysian', 'mandopop',\n",
       "       'marschmusik', 'meditative', 'mediterranean', 'melodic', 'metal',\n",
       "       'metalcore', 'mexican', 'middle', 'minimal', 'miscellaneous',\n",
       "       'modern', 'mood', 'mpb', 'muslim', 'native', 'neoklassik', 'neue',\n",
       "       'new', 'newage', 'newwave', 'nu', 'nujazz', 'numetal', 'oceania',\n",
       "       'old', 'opera', 'orchestral', 'other', 'piano', 'pop',\n",
       "       'popelectronic', 'popeurodance', 'post', 'posthardcore',\n",
       "       'postrock', 'power', 'progmetal', 'progressive', 'psychedelic',\n",
       "       'punjabi', 'punk', 'quebecois', 'ragga', 'ram', 'rancheras', 'rap',\n",
       "       'rave', 'reggae', 'reggaeton', 'regional', 'relax', 'religious',\n",
       "       'retro', 'rhythm', 'rnb', 'rnr', 'rock', 'rockabilly', 'romance',\n",
       "       'roots', 'ruspop', 'rusrap', 'rusrock', 'salsa', 'samba',\n",
       "       'schlager', 'self', 'sertanejo', 'shoegazing', 'showtunes',\n",
       "       'singer', 'ska', 'slow', 'smooth', 'soul', 'soulful', 'sound',\n",
       "       'soundtrack', 'southern', 'specialty', 'speech', 'spiritual',\n",
       "       'sport', 'stonerrock', 'surf', 'swing', 'synthpop',\n",
       "       'sängerportrait', 'tango', 'tanzorchester', 'taraftar', 'tech',\n",
       "       'techno', 'thrash', 'top', 'traditional', 'tradjazz', 'trance',\n",
       "       'tribal', 'trip', 'triphop', 'tropical', 'türk', 'türkçe',\n",
       "       'unknown', 'urban', 'uzbek', 'variété', 'vi', 'videogame', 'vocal',\n",
       "       'western', 'world', 'worldbeat', 'ïîï'], dtype=object)"
      ]
     },
     "execution_count": 21,
     "metadata": {},
     "output_type": "execute_result"
    }
   ],
   "source": [
    "# Comprobación de duplicados implícitos\n",
    "df[\"genre\"].sort_values().unique()"
   ]
  },
  {
   "cell_type": "markdown",
   "metadata": {
    "id": "ALgNbvF3VtPA"
   },
   "source": [
    "[Volver a Contenidos](#back)"
   ]
  },
  {
   "cell_type": "markdown",
   "metadata": {
    "id": "jz6a9-7HQUDd"
   },
   "source": [
    "### Tus observaciones <a id='data_preprocessing_conclusions'></a>\n",
    "\n",
    "`Describe brevemente lo que has notado al analizar duplicados, cómo abordaste sus eliminaciones y qué resultados obtuviste.`\n",
    "Revisar duplicados nos ayuda a que el análisis de datos sea preciso y procura que podamos corroborar la hipótesis. En este caso, debemos revisar los tipos de datos que estamos organizando para reasignarles otro valor que sea adecuado. Igualmente se debe de revisar el tamañao de los datos para analizar si los valores ausentes o duplicados pueden afectar el análisis. \n",
    "Note"
   ]
  },
  {
   "cell_type": "markdown",
   "metadata": {
    "id": "eK1es74rVujj"
   },
   "source": [
    "[Volver a Contenidos](#back)"
   ]
  },
  {
   "cell_type": "markdown",
   "metadata": {
    "id": "WttZHXH0SqKk"
   },
   "source": [
    "## Etapa 3. Prueba de hipótesis <a id='hypothesis'></a>"
   ]
  },
  {
   "cell_type": "markdown",
   "metadata": {
    "id": "Im936VVi_Zcu"
   },
   "source": [
    "### Hipótesis: comparar el comportamiento del usuario o la usuaria en las dos ciudades <a id='activity'></a>"
   ]
  },
  {
   "cell_type": "markdown",
   "metadata": {
    "id": "nwt_MuaL_Zcu"
   },
   "source": [
    "La hipótesis afirma que existen diferencias en la forma en que los usuarios y las usuarias de Springfield y Shelbyville consumen música. Para comprobar esto, usa los datos de tres días de la semana: lunes, miércoles y viernes.\n",
    "\n",
    "* Agrupa a los usuarios y las usuarias por ciudad.\n",
    "* Compara el número de canciones que cada grupo reprodujo el lunes, el miércoles y el viernes.\n"
   ]
  },
  {
   "cell_type": "markdown",
   "metadata": {
    "id": "8Dw_YMmT_Zcu"
   },
   "source": [
    "Realiza cada cálculo por separado.\n",
    "\n",
    "El primer paso es evaluar la actividad del usuario en cada ciudad. Recuerda las etapas dividir-aplicar-combinar de las que hablamos anteriormente en la lección. Tu objetivo ahora es agrupar los datos por ciudad, aplicar el método apropiado para contar durante la etapa de aplicación y luego encontrar la cantidad de canciones reproducidas en cada grupo especificando la columna para obtener el recuento.\n",
    "\n",
    "A continuación se muestra un ejemplo de cómo debería verse el resultado final:\n",
    "`df.groupby(by='....')['column'].method()`Realiza cada cálculo por separado.\n",
    "\n",
    "Para evaluar la actividad de los usuarios y las usuarias en cada ciudad, agrupa los datos por ciudad y encuentra la cantidad de canciones reproducidas en cada grupo.\n",
    "\n"
   ]
  },
  {
   "cell_type": "code",
   "execution_count": null,
   "metadata": {
    "id": "0_Qs96oh_Zcu",
    "trusted": false
   },
   "outputs": [
    {
     "name": "stdout",
     "output_type": "stream",
     "text": [
      "city\n",
      "Shelbyville    18512\n",
      "Springfield    42741\n",
      "Name: track, dtype: int64\n"
     ]
    }
   ],
   "source": [
    "# Contar las canciones reproducidas en cada ciudad\n",
    "total_songs_played = df.groupby(by=\"city\")[\"track\"].count()\n",
    "print(total_songs_played)\n"
   ]
  },
  {
   "cell_type": "markdown",
   "metadata": {
    "id": "t_Qx-3NewAnK"
   },
   "source": [
    "`Comenta tus observaciones aquí`\n",
    "La ciudad de Sprinfield tiene un mayor tráfico de reproducción de música que Shelbyille. Puede que la ciudad tenga más medios como apps para reproducir música o que simplemente el númeor de población sea mayor. "
   ]
  },
  {
   "cell_type": "markdown",
   "metadata": {
    "id": "dzli3w8o_Zcu"
   },
   "source": [
    "Ahora agrupemos los datos por día de la semana y encontremos el número de canciones reproducidas el lunes, miércoles y viernes. Utiliza el mismo método que antes, pero ahora necesitamos una agrupación diferente.\n"
   ]
  },
  {
   "cell_type": "code",
   "execution_count": null,
   "metadata": {
    "id": "uZMKjiJz_Zcu",
    "trusted": false
   },
   "outputs": [
    {
     "name": "stdout",
     "output_type": "stream",
     "text": [
      "day\n",
      "Friday       21840\n",
      "Monday       21354\n",
      "Wednesday    18059\n",
      "Name: track, dtype: int64\n"
     ]
    }
   ],
   "source": [
    "# Calcular las canciones reproducidas en cada uno de los tres días\n",
    "total_songs_day = df.groupby(\"day\")[\"track\"].count()\n",
    "print(total_songs_day)"
   ]
  },
  {
   "cell_type": "markdown",
   "metadata": {
    "id": "cC2tNrlL_Zcu"
   },
   "source": [
    "`Comenta tus observaciones aquí`\n",
    "Analizando ambas ciudad, el viernes son los días en donde se acumula el mayor reproducción de música, meintras que los miércoles presentan una menor cantidad. Los viernes son parte del inicio del fin de semana por lo que las personas tienen mayor tiempo libre para escuchar música."
   ]
  },
  {
   "cell_type": "markdown",
   "metadata": {
    "id": "POzs8bGa_Zcu"
   },
   "source": [
    "Ya sabes cómo contar entradas agrupándolas por ciudad o día. Ahora necesitas escribir una función que pueda contar entradas según ambos criterios simultáneamente.\n",
    "\n",
    "Crea la función `number_tracks()` para calcular el número de canciones reproducidas en un determinado día **y** ciudad. La función debe aceptar dos parámetros:\n",
    "\n",
    "- `day`: un día de la semana para filtrar. Por ejemplo, `'Monday'` (lunes).\n",
    "- `city`: una ciudad para filtrar. Por ejemplo, `'Springfield'`.\n",
    "\n",
    "Dentro de la función, aplicarás un filtrado consecutivo con indexación lógica.\n",
    "\n",
    "Primero filtra los datos por día y luego filtra la tabla resultante por ciudad.\n",
    "\n",
    "Después de filtrar los datos por dos criterios, cuenta el número de valores de la columna 'user_id' en la tabla resultante. Este recuento representa el número de entradas que estás buscando. Guarda el resultado en una nueva variable y devuélvelo desde la función."
   ]
  },
  {
   "cell_type": "markdown",
   "metadata": {
    "id": "ytf7xFrFJQ2r"
   },
   "source": [
    "Llama a `number_tracks()` seis veces, cambiando los valores de los parámetros para que recuperes los datos de ambas ciudades para cada uno de los tres días."
   ]
  },
  {
   "cell_type": "code",
   "execution_count": null,
   "metadata": {
    "id": "Nz3GdQB1_Zcu",
    "trusted": false
   },
   "outputs": [],
   "source": [
    "# Declara la función number_tracks() con dos parámetros: day= y city=.\n",
    "\n",
    "def number_tracks(day, city):\n",
    "  # Filtra las filas donde el valor en la columna 'day' es igual al parámetro day\n",
    "  filtered_df = df[(df[\"day\"] == day) & (df[\"city\"] == city)]\n",
    "\n",
    "  # Cuenta el número de valores únicos en la columna 'user_id'\n",
    "  total_songs_played = filtered_df[\"user_id\"].count()\n",
    "\n",
    "  # Devuelve el número total de canciones reproducidas\n",
    "  return total_songs_played"
   ]
  },
  {
   "cell_type": "code",
   "execution_count": null,
   "metadata": {
    "id": "rJcRATNQ_Zcu",
    "trusted": false
   },
   "outputs": [
    {
     "name": "stdout",
     "output_type": "stream",
     "text": [
      "El número de canciones reproducidas el Lunes en Springield es de: 15740\n"
     ]
    }
   ],
   "source": [
    "# El número de canciones reproducidas en Springfield el lunes\n",
    "monday_springfield = number_tracks(\"Monday\", \"Springfield\")\n",
    "print(f\"El número de canciones reproducidas el Lunes en Springield es de: {monday_springfield}\") \n",
    "        "
   ]
  },
  {
   "cell_type": "code",
   "execution_count": null,
   "metadata": {
    "id": "hq_ncZ5T_Zcu",
    "trusted": false
   },
   "outputs": [
    {
     "name": "stdout",
     "output_type": "stream",
     "text": [
      "El número de canciones reproducidas el Lunes en Shelbyville es de: 5614\n"
     ]
    }
   ],
   "source": [
    "# El número de canciones reproducidas en Shelbyville el lunes\n",
    "monday_shelbyville = number_tracks(\"Monday\", \"Shelbyville\")\n",
    "print(f\"El número de canciones reproducidas el Lunes en Shelbyville es de: {monday_shelbyville}\")\n"
   ]
  },
  {
   "cell_type": "code",
   "execution_count": null,
   "metadata": {
    "id": "_NTy2VPU_Zcu",
    "trusted": false
   },
   "outputs": [
    {
     "name": "stdout",
     "output_type": "stream",
     "text": [
      "El número de canciones reproducidas el Miércoles en Sprinfield es de: 11056\n"
     ]
    }
   ],
   "source": [
    "# El número de canciones reproducidas en Springfield el miércoles\n",
    "wednesday_springfield = number_tracks(\"Wednesday\", \"Springfield\")\n",
    "print(f\"El número de canciones reproducidas el Miércoles en Sprinfield es de: {wednesday_springfield}\")\n"
   ]
  },
  {
   "cell_type": "code",
   "execution_count": null,
   "metadata": {
    "id": "j2y3TAwo_Zcu",
    "trusted": false
   },
   "outputs": [
    {
     "name": "stdout",
     "output_type": "stream",
     "text": [
      "El número de canciones reproducidas el Miércoles en Shelbyville es de: 7003\n"
     ]
    }
   ],
   "source": [
    "# El número de canciones reproducidas en Shelbyville el miércoles\n",
    "wednesday_shelbyville = number_tracks(\"Wednesday\", \"Shelbyville\")\n",
    "print(f\"El número de canciones reproducidas el Miércoles en Shelbyville es de: {wednesday_shelbyville}\")"
   ]
  },
  {
   "cell_type": "code",
   "execution_count": null,
   "metadata": {
    "id": "vYDw5u_K_Zcu",
    "trusted": false
   },
   "outputs": [
    {
     "name": "stdout",
     "output_type": "stream",
     "text": [
      "El número de canciones reproducidas el Viernes en Sprinfield es de: 15945\n"
     ]
    }
   ],
   "source": [
    "# El número de canciones reproducidas en Springfield el viernes\n",
    "friday_springfield = number_tracks(\"Friday\", \"Springfield\")\n",
    "print(f\"El número de canciones reproducidas el Viernes en Sprinfield es de: {friday_springfield}\")"
   ]
  },
  {
   "cell_type": "code",
   "execution_count": null,
   "metadata": {
    "id": "8_yzFtW3_Zcu",
    "trusted": false
   },
   "outputs": [
    {
     "name": "stdout",
     "output_type": "stream",
     "text": [
      "El número de canciones reproducidas el Viernes en Sprinfield es de: 5895\n"
     ]
    }
   ],
   "source": [
    "# El número de canciones reproducidas en Shelbyville el viernes\n",
    "friday_shelbyville = number_tracks(\"Friday\", \"Shelbyville\")\n",
    "print(f\"El número de canciones reproducidas el Viernes en Sprinfield es de: {friday_shelbyville}\")"
   ]
  },
  {
   "cell_type": "markdown",
   "metadata": {
    "id": "-EgPIHYu_Zcu"
   },
   "source": [
    "**Conclusiones**\n",
    "`Comenta si la hipótesis es correcta o se debe rechazar. Explica tu razonamiento.`\n",
    "La hipótesis \"la actividad de los usuarios y las usuarias difiere según el día de la semana y dependiendo de la ciudad\" es correcta principalmente para la ciudad Springfield. Esto debido a que tiene un gran tráfico de canciones reproducidas los lunes y los viernes. Igualmente compararando sus resultados de Springfield nos damos cuenta de que el tráfico de música es el triple que las de Shelbyville. "
   ]
  },
  {
   "cell_type": "markdown",
   "metadata": {
    "id": "p7nFQajCVw5B"
   },
   "source": [
    "[Volver a Contenidos](#back)"
   ]
  },
  {
   "cell_type": "markdown",
   "metadata": {
    "id": "ykKQ0N65_Zcv"
   },
   "source": [
    "# Conclusiones <a id='end'></a>"
   ]
  },
  {
   "cell_type": "markdown",
   "metadata": {
    "id": "tjUwbHb3_Zcv"
   },
   "source": [
    "`Resume aquí tus conclusiones sobre la hipótesis.`\n",
    "Como conclusión podemos afirmar que Springfield tiene el triple de tráfico de canciones reproducidas que Shelbyville en todos los días analizados. Los viernes es el día en el que Springfield esucha más música, mientras que para Shelbyville son los miércoles. Sin embargo, también se puede aseverar que no hay picos o valles significativos en los días analizados en cuanto al  total de canciones reproducidas de ambas ciudades.\n",
    "\n",
    "Por lo tanto, a partir de los datos proporcionados se conlcuye que Springfield escucha más música que Shelbyville. No obstante, aún se requieren más datos para afirmar lo anterior, ya que cabe la posibilidad de que Springfield sea una ciudad con mayor número de población que Shelbyville.\n",
    "\n",
    "Se recomienda conseguir datos sobre el número de población de ambas ciudades para medir de manera acertada la hipótesis. También se puede aprovechar más los datos del resto de columnas como genre y time a través de un perfil de los usarios. "
   ]
  },
  {
   "cell_type": "markdown",
   "metadata": {
    "id": "Ju4AHDSgV1FE"
   },
   "source": [
    "[Volver a Contenidos](#back)"
   ]
  }
 ],
 "metadata": {
  "ExecuteTimeLog": [
   {
    "duration": 307,
    "start_time": "2024-11-04T17:05:35.608Z"
   },
   {
    "duration": 113,
    "start_time": "2024-11-04T17:05:38.516Z"
   },
   {
    "duration": 6,
    "start_time": "2024-11-04T17:05:57.521Z"
   },
   {
    "duration": 24,
    "start_time": "2024-11-04T17:07:19.156Z"
   },
   {
    "duration": 87,
    "start_time": "2024-11-04T17:18:00.671Z"
   },
   {
    "duration": 5,
    "start_time": "2024-11-04T17:18:17.809Z"
   },
   {
    "duration": 3,
    "start_time": "2024-11-04T17:21:33.017Z"
   },
   {
    "duration": 3,
    "start_time": "2024-11-04T17:22:37.851Z"
   },
   {
    "duration": 111,
    "start_time": "2024-11-04T17:24:50.018Z"
   },
   {
    "duration": 3,
    "start_time": "2024-11-04T17:25:08.562Z"
   },
   {
    "duration": 12,
    "start_time": "2024-11-04T17:26:02.416Z"
   },
   {
    "duration": 4,
    "start_time": "2024-11-04T17:26:15.067Z"
   },
   {
    "duration": 3,
    "start_time": "2024-11-04T17:37:53.746Z"
   },
   {
    "duration": 3,
    "start_time": "2024-11-04T17:38:04.365Z"
   },
   {
    "duration": 13,
    "start_time": "2024-11-04T17:40:49.806Z"
   },
   {
    "duration": 14,
    "start_time": "2024-11-04T17:40:59.305Z"
   },
   {
    "duration": 3,
    "start_time": "2024-11-04T17:41:42.621Z"
   },
   {
    "duration": 3,
    "start_time": "2024-11-04T17:43:01.001Z"
   },
   {
    "duration": 4,
    "start_time": "2024-11-04T17:48:16.036Z"
   },
   {
    "duration": 3,
    "start_time": "2024-11-04T17:49:03.313Z"
   },
   {
    "duration": 4,
    "start_time": "2024-11-04T17:50:59.567Z"
   },
   {
    "duration": 4,
    "start_time": "2024-11-04T17:52:22.870Z"
   },
   {
    "duration": 3,
    "start_time": "2024-11-04T17:52:48.187Z"
   },
   {
    "duration": 4,
    "start_time": "2024-11-04T17:52:54.177Z"
   },
   {
    "duration": 13,
    "start_time": "2024-11-04T17:54:34.745Z"
   },
   {
    "duration": 13,
    "start_time": "2024-11-04T17:54:46.425Z"
   },
   {
    "duration": 2,
    "start_time": "2024-11-04T17:55:00.600Z"
   },
   {
    "duration": 3,
    "start_time": "2024-11-04T17:55:18.340Z"
   },
   {
    "duration": 3,
    "start_time": "2024-11-04T17:55:38.242Z"
   },
   {
    "duration": 4,
    "start_time": "2024-11-04T17:56:29.998Z"
   },
   {
    "duration": 3,
    "start_time": "2024-11-04T17:57:09.211Z"
   },
   {
    "duration": 3,
    "start_time": "2024-11-04T17:57:12.217Z"
   },
   {
    "duration": 3,
    "start_time": "2024-11-04T18:00:43.916Z"
   },
   {
    "duration": 3,
    "start_time": "2024-11-04T18:04:42.477Z"
   },
   {
    "duration": 4,
    "start_time": "2024-11-04T18:05:34.717Z"
   },
   {
    "duration": 13,
    "start_time": "2024-11-04T18:06:56.758Z"
   },
   {
    "duration": 3,
    "start_time": "2024-11-04T18:07:05.711Z"
   },
   {
    "duration": 3,
    "start_time": "2024-11-04T18:07:14.397Z"
   },
   {
    "duration": 339,
    "start_time": "2024-11-04T18:07:41.195Z"
   },
   {
    "duration": 3,
    "start_time": "2024-11-04T18:08:15.905Z"
   },
   {
    "duration": 4,
    "start_time": "2024-11-04T18:10:55.911Z"
   },
   {
    "duration": 4,
    "start_time": "2024-11-04T18:11:36.545Z"
   },
   {
    "duration": 12,
    "start_time": "2024-11-04T18:14:27.231Z"
   },
   {
    "duration": 15,
    "start_time": "2024-11-04T18:15:51.086Z"
   },
   {
    "duration": 29,
    "start_time": "2024-11-04T18:16:29.647Z"
   },
   {
    "duration": 4,
    "start_time": "2024-11-04T18:16:49.438Z"
   },
   {
    "duration": 3,
    "start_time": "2024-11-04T18:17:09.708Z"
   },
   {
    "duration": 28,
    "start_time": "2024-11-04T18:17:12.383Z"
   },
   {
    "duration": 3,
    "start_time": "2024-11-04T18:18:01.167Z"
   },
   {
    "duration": 12,
    "start_time": "2024-11-04T18:18:38.921Z"
   },
   {
    "duration": 3,
    "start_time": "2024-11-04T18:18:56.394Z"
   },
   {
    "duration": 2,
    "start_time": "2024-11-04T18:20:43.113Z"
   },
   {
    "duration": 13,
    "start_time": "2024-11-04T18:21:56.785Z"
   },
   {
    "duration": 3,
    "start_time": "2024-11-04T18:22:05.715Z"
   },
   {
    "duration": 14,
    "start_time": "2024-11-04T18:22:16.510Z"
   },
   {
    "duration": 3,
    "start_time": "2024-11-04T18:22:28.640Z"
   },
   {
    "duration": 4,
    "start_time": "2024-11-04T18:23:06.647Z"
   },
   {
    "duration": 3,
    "start_time": "2024-11-04T18:23:39.670Z"
   },
   {
    "duration": 4,
    "start_time": "2024-11-04T18:24:02.268Z"
   },
   {
    "duration": 3,
    "start_time": "2024-11-04T18:24:09.283Z"
   },
   {
    "duration": 29,
    "start_time": "2024-11-04T18:24:33.800Z"
   },
   {
    "duration": 5,
    "start_time": "2024-11-04T18:24:39.770Z"
   },
   {
    "duration": 14,
    "start_time": "2024-11-04T18:26:46.088Z"
   },
   {
    "duration": 28,
    "start_time": "2024-11-04T18:27:14.912Z"
   },
   {
    "duration": 30,
    "start_time": "2024-11-04T18:28:12.523Z"
   },
   {
    "duration": 4,
    "start_time": "2024-11-04T18:28:19.950Z"
   },
   {
    "duration": 4,
    "start_time": "2024-11-04T18:28:24.449Z"
   },
   {
    "duration": 13,
    "start_time": "2024-11-04T18:28:33.427Z"
   },
   {
    "duration": 14,
    "start_time": "2024-11-04T18:28:41.956Z"
   },
   {
    "duration": 13,
    "start_time": "2024-11-04T18:29:41.563Z"
   },
   {
    "duration": 4,
    "start_time": "2024-11-04T18:30:03.577Z"
   },
   {
    "duration": 3,
    "start_time": "2024-11-04T18:30:14.286Z"
   },
   {
    "duration": 3,
    "start_time": "2024-11-04T18:30:29.017Z"
   },
   {
    "duration": 3,
    "start_time": "2024-11-04T18:30:34.354Z"
   },
   {
    "duration": 3,
    "start_time": "2024-11-04T18:30:36.917Z"
   },
   {
    "duration": 3,
    "start_time": "2024-11-04T18:30:48.161Z"
   },
   {
    "duration": 3,
    "start_time": "2024-11-04T18:31:18.126Z"
   },
   {
    "duration": 3,
    "start_time": "2024-11-04T18:31:22.098Z"
   },
   {
    "duration": 4,
    "start_time": "2024-11-04T18:31:27.610Z"
   },
   {
    "duration": 18,
    "start_time": "2024-11-04T18:32:29.927Z"
   },
   {
    "duration": 5,
    "start_time": "2024-11-04T18:33:32.297Z"
   },
   {
    "duration": 4,
    "start_time": "2024-11-04T18:33:34.213Z"
   },
   {
    "duration": 2,
    "start_time": "2024-11-04T18:33:39.954Z"
   },
   {
    "duration": 4,
    "start_time": "2024-11-04T18:33:41.700Z"
   },
   {
    "duration": 3,
    "start_time": "2024-11-04T18:33:51.370Z"
   },
   {
    "duration": 3,
    "start_time": "2024-11-04T18:33:53.261Z"
   },
   {
    "duration": 4,
    "start_time": "2024-11-04T18:34:08.062Z"
   },
   {
    "duration": 15,
    "start_time": "2024-11-04T18:38:46.667Z"
   },
   {
    "duration": 27,
    "start_time": "2024-11-04T18:38:49.013Z"
   },
   {
    "duration": 47,
    "start_time": "2024-11-04T18:44:09.267Z"
   },
   {
    "duration": 52,
    "start_time": "2024-11-04T18:44:45.338Z"
   },
   {
    "duration": 46,
    "start_time": "2024-11-04T18:44:58.965Z"
   },
   {
    "duration": 3,
    "start_time": "2024-11-04T18:47:06.884Z"
   },
   {
    "duration": 7,
    "start_time": "2024-11-04T18:47:25.734Z"
   },
   {
    "duration": 5,
    "start_time": "2024-11-04T18:48:21.662Z"
   },
   {
    "duration": 12,
    "start_time": "2024-11-04T18:49:50.117Z"
   },
   {
    "duration": 17,
    "start_time": "2024-11-04T18:51:04.030Z"
   },
   {
    "duration": 9,
    "start_time": "2024-11-04T18:51:12.999Z"
   },
   {
    "duration": 9,
    "start_time": "2024-11-04T18:52:46.694Z"
   },
   {
    "duration": 9,
    "start_time": "2024-11-04T18:52:55.551Z"
   },
   {
    "duration": 11,
    "start_time": "2024-11-04T18:54:47.363Z"
   },
   {
    "duration": 9,
    "start_time": "2024-11-04T18:55:07.435Z"
   },
   {
    "duration": 20,
    "start_time": "2024-11-04T18:55:14.223Z"
   },
   {
    "duration": 7,
    "start_time": "2024-11-04T18:55:40.254Z"
   },
   {
    "duration": 5,
    "start_time": "2024-11-04T18:57:29.647Z"
   },
   {
    "duration": 6,
    "start_time": "2024-11-04T18:57:33.865Z"
   },
   {
    "duration": 15,
    "start_time": "2024-11-04T19:00:03.848Z"
   },
   {
    "duration": 16,
    "start_time": "2024-11-04T19:00:15.210Z"
   },
   {
    "duration": 13,
    "start_time": "2024-11-04T19:00:37.467Z"
   },
   {
    "duration": 7,
    "start_time": "2024-11-04T19:00:42.017Z"
   },
   {
    "duration": 5,
    "start_time": "2024-11-04T19:01:08.844Z"
   },
   {
    "duration": 6,
    "start_time": "2024-11-04T19:01:13.244Z"
   },
   {
    "duration": 20,
    "start_time": "2024-11-04T19:02:32.074Z"
   },
   {
    "duration": 63,
    "start_time": "2024-11-04T19:02:36.676Z"
   },
   {
    "duration": 8,
    "start_time": "2024-11-04T19:02:54.487Z"
   },
   {
    "duration": 17,
    "start_time": "2024-11-04T19:03:25.708Z"
   },
   {
    "duration": 16,
    "start_time": "2024-11-04T19:03:32.563Z"
   },
   {
    "duration": 6,
    "start_time": "2024-11-04T19:03:38.450Z"
   },
   {
    "duration": 3,
    "start_time": "2024-11-04T19:14:43.575Z"
   },
   {
    "duration": 7,
    "start_time": "2024-11-04T19:16:57.042Z"
   },
   {
    "duration": 2,
    "start_time": "2024-11-04T19:21:54.459Z"
   },
   {
    "duration": 3,
    "start_time": "2024-11-04T19:22:16.847Z"
   },
   {
    "duration": 6,
    "start_time": "2024-11-04T19:24:37.651Z"
   },
   {
    "duration": 158,
    "start_time": "2024-11-04T20:17:18.669Z"
   },
   {
    "duration": 12,
    "start_time": "2024-11-04T20:17:32.750Z"
   },
   {
    "duration": 321,
    "start_time": "2024-11-04T20:17:44.875Z"
   },
   {
    "duration": 111,
    "start_time": "2024-11-04T20:17:47.129Z"
   },
   {
    "duration": 6,
    "start_time": "2024-11-04T20:17:49.214Z"
   },
   {
    "duration": 22,
    "start_time": "2024-11-04T20:17:53.109Z"
   },
   {
    "duration": 3,
    "start_time": "2024-11-04T20:17:57.660Z"
   },
   {
    "duration": 3,
    "start_time": "2024-11-04T20:18:01.588Z"
   },
   {
    "duration": 3,
    "start_time": "2024-11-04T20:18:04.338Z"
   },
   {
    "duration": 397,
    "start_time": "2024-11-04T20:24:45.364Z"
   },
   {
    "duration": 59,
    "start_time": "2024-11-04T20:25:31.418Z"
   },
   {
    "duration": 42,
    "start_time": "2024-11-04T20:26:21.630Z"
   },
   {
    "duration": 57,
    "start_time": "2024-11-04T20:26:39.501Z"
   },
   {
    "duration": 52,
    "start_time": "2024-11-04T20:28:54.127Z"
   },
   {
    "duration": 60,
    "start_time": "2024-11-04T20:30:54.760Z"
   },
   {
    "duration": 44,
    "start_time": "2024-11-04T20:31:03.214Z"
   },
   {
    "duration": 4,
    "start_time": "2024-11-04T20:36:25.518Z"
   },
   {
    "duration": 3,
    "start_time": "2024-11-04T20:36:31.190Z"
   },
   {
    "duration": 9,
    "start_time": "2024-11-04T20:36:39.265Z"
   },
   {
    "duration": 8,
    "start_time": "2024-11-04T20:36:42.975Z"
   },
   {
    "duration": 8,
    "start_time": "2024-11-04T20:37:42.605Z"
   },
   {
    "duration": 6,
    "start_time": "2024-11-04T20:37:51.547Z"
   },
   {
    "duration": 41,
    "start_time": "2024-11-04T20:39:54.651Z"
   },
   {
    "duration": 51,
    "start_time": "2024-11-04T20:42:47.993Z"
   },
   {
    "duration": 45,
    "start_time": "2024-11-04T20:42:58.583Z"
   },
   {
    "duration": 41,
    "start_time": "2024-11-04T20:43:24.837Z"
   },
   {
    "duration": 45,
    "start_time": "2024-11-04T20:43:44.844Z"
   },
   {
    "duration": 54,
    "start_time": "2024-11-04T20:44:40.204Z"
   },
   {
    "duration": 41,
    "start_time": "2024-11-04T20:45:26.457Z"
   },
   {
    "duration": 45,
    "start_time": "2024-11-04T20:48:40.741Z"
   },
   {
    "duration": 48,
    "start_time": "2024-11-04T20:48:52.350Z"
   },
   {
    "duration": 39,
    "start_time": "2024-11-04T20:49:53.120Z"
   },
   {
    "duration": 193,
    "start_time": "2024-11-05T17:17:52.747Z"
   },
   {
    "duration": 17,
    "start_time": "2024-11-05T17:18:22.605Z"
   },
   {
    "duration": 340,
    "start_time": "2024-11-05T17:18:26.780Z"
   },
   {
    "duration": 120,
    "start_time": "2024-11-05T17:18:29.243Z"
   },
   {
    "duration": 389,
    "start_time": "2024-11-05T17:18:38.613Z"
   },
   {
    "duration": 39,
    "start_time": "2024-11-05T17:19:17.180Z"
   },
   {
    "duration": 14,
    "start_time": "2024-11-05T18:23:29.230Z"
   },
   {
    "duration": 4,
    "start_time": "2024-11-05T18:23:35.649Z"
   },
   {
    "duration": 3,
    "start_time": "2024-11-05T18:23:38.230Z"
   },
   {
    "duration": 13,
    "start_time": "2024-11-05T18:23:40.935Z"
   },
   {
    "duration": 169,
    "start_time": "2024-11-05T21:45:14.049Z"
   },
   {
    "duration": 13,
    "start_time": "2024-11-05T21:45:26.125Z"
   },
   {
    "duration": 362,
    "start_time": "2024-11-05T21:45:31.632Z"
   },
   {
    "duration": 118,
    "start_time": "2024-11-05T21:45:34.960Z"
   },
   {
    "duration": 7,
    "start_time": "2024-11-05T21:45:36.505Z"
   },
   {
    "duration": 2,
    "start_time": "2024-11-05T21:45:41.134Z"
   },
   {
    "duration": 3,
    "start_time": "2024-11-05T21:45:43.601Z"
   },
   {
    "duration": 3,
    "start_time": "2024-11-05T21:45:50.087Z"
   },
   {
    "duration": 4,
    "start_time": "2024-11-05T21:45:52.672Z"
   },
   {
    "duration": 4,
    "start_time": "2024-11-05T21:45:58.411Z"
   },
   {
    "duration": 3,
    "start_time": "2024-11-05T21:46:05.686Z"
   },
   {
    "duration": 3,
    "start_time": "2024-11-05T21:46:45.628Z"
   },
   {
    "duration": 3,
    "start_time": "2024-11-05T21:48:37.443Z"
   },
   {
    "duration": 11,
    "start_time": "2024-11-05T21:51:14.988Z"
   },
   {
    "duration": 483,
    "start_time": "2024-11-05T21:54:55.553Z"
   },
   {
    "duration": 4,
    "start_time": "2024-11-05T21:55:31.501Z"
   },
   {
    "duration": 3,
    "start_time": "2024-11-05T21:55:47.910Z"
   },
   {
    "duration": 14,
    "start_time": "2024-11-05T21:57:24.470Z"
   },
   {
    "duration": 14,
    "start_time": "2024-11-05T22:02:36.548Z"
   },
   {
    "duration": 4,
    "start_time": "2024-11-05T22:03:14.469Z"
   },
   {
    "duration": 18,
    "start_time": "2024-11-05T22:03:30.099Z"
   },
   {
    "duration": 5,
    "start_time": "2024-11-05T22:03:42.675Z"
   },
   {
    "duration": 5,
    "start_time": "2024-11-05T22:04:11.343Z"
   },
   {
    "duration": 402,
    "start_time": "2024-11-05T22:05:51.213Z"
   },
   {
    "duration": 9,
    "start_time": "2024-11-05T22:11:38.168Z"
   },
   {
    "duration": 11,
    "start_time": "2024-11-05T22:16:45.217Z"
   },
   {
    "duration": 4,
    "start_time": "2024-11-05T22:41:28.117Z"
   },
   {
    "duration": 3,
    "start_time": "2024-11-05T22:41:39.085Z"
   },
   {
    "duration": 3,
    "start_time": "2024-11-05T22:41:52.481Z"
   },
   {
    "duration": 4,
    "start_time": "2024-11-05T22:42:57.194Z"
   },
   {
    "duration": 3,
    "start_time": "2024-11-05T22:43:42.545Z"
   },
   {
    "duration": 156,
    "start_time": "2024-11-06T18:02:47.674Z"
   },
   {
    "duration": 11,
    "start_time": "2024-11-06T18:03:06.264Z"
   },
   {
    "duration": 320,
    "start_time": "2024-11-06T18:03:16.220Z"
   },
   {
    "duration": 108,
    "start_time": "2024-11-06T18:03:18.685Z"
   },
   {
    "duration": 6,
    "start_time": "2024-11-06T18:03:21.640Z"
   },
   {
    "duration": 3,
    "start_time": "2024-11-06T18:03:35.054Z"
   },
   {
    "duration": 34,
    "start_time": "2024-11-06T18:04:09.529Z"
   },
   {
    "duration": 11,
    "start_time": "2024-11-06T18:04:59.584Z"
   },
   {
    "duration": 12,
    "start_time": "2024-11-06T18:07:27.725Z"
   },
   {
    "duration": 7,
    "start_time": "2024-11-06T18:07:42.503Z"
   },
   {
    "duration": 15,
    "start_time": "2024-11-06T18:07:57.481Z"
   },
   {
    "duration": 15,
    "start_time": "2024-11-06T18:08:16.419Z"
   },
   {
    "duration": 4,
    "start_time": "2024-11-06T19:21:28.418Z"
   },
   {
    "duration": 4,
    "start_time": "2024-11-06T19:21:35.142Z"
   },
   {
    "duration": 3,
    "start_time": "2024-11-06T19:21:42.747Z"
   },
   {
    "duration": 3,
    "start_time": "2024-11-06T19:21:44.896Z"
   },
   {
    "duration": 3,
    "start_time": "2024-11-06T19:21:47.257Z"
   },
   {
    "duration": 3,
    "start_time": "2024-11-06T19:21:50.617Z"
   },
   {
    "duration": 8,
    "start_time": "2024-11-06T21:36:37.942Z"
   },
   {
    "duration": 4,
    "start_time": "2024-11-06T21:36:46.774Z"
   },
   {
    "duration": 153,
    "start_time": "2024-11-06T21:46:51.782Z"
   },
   {
    "duration": 14,
    "start_time": "2024-11-06T21:47:09.481Z"
   },
   {
    "duration": 11,
    "start_time": "2024-11-06T21:47:26.688Z"
   },
   {
    "duration": 301,
    "start_time": "2024-11-06T21:47:29.930Z"
   },
   {
    "duration": 111,
    "start_time": "2024-11-06T21:47:31.752Z"
   },
   {
    "duration": 6,
    "start_time": "2024-11-06T21:47:33.033Z"
   },
   {
    "duration": 396,
    "start_time": "2024-11-06T21:47:48.549Z"
   },
   {
    "duration": 4,
    "start_time": "2024-11-06T21:48:23.041Z"
   },
   {
    "duration": 6,
    "start_time": "2024-11-06T21:48:33.964Z"
   },
   {
    "duration": 2,
    "start_time": "2024-11-06T21:52:48.792Z"
   },
   {
    "duration": 3,
    "start_time": "2024-11-06T21:54:23.522Z"
   },
   {
    "duration": 3,
    "start_time": "2024-11-06T21:55:49.070Z"
   },
   {
    "duration": 43,
    "start_time": "2024-11-06T21:55:50.720Z"
   },
   {
    "duration": 3,
    "start_time": "2024-11-06T21:56:12.492Z"
   },
   {
    "duration": 90,
    "start_time": "2024-11-06T21:56:14.478Z"
   },
   {
    "duration": 6,
    "start_time": "2024-11-06T21:56:16.106Z"
   },
   {
    "duration": 22,
    "start_time": "2024-11-06T21:56:18.669Z"
   },
   {
    "duration": 3,
    "start_time": "2024-11-06T21:56:22.218Z"
   },
   {
    "duration": 4,
    "start_time": "2024-11-06T21:56:24.876Z"
   },
   {
    "duration": 4,
    "start_time": "2024-11-06T21:56:27.334Z"
   },
   {
    "duration": 4,
    "start_time": "2024-11-06T21:56:31.058Z"
   },
   {
    "duration": 3,
    "start_time": "2024-11-06T21:56:33.775Z"
   },
   {
    "duration": 17,
    "start_time": "2024-11-06T21:56:40.669Z"
   },
   {
    "duration": 3,
    "start_time": "2024-11-06T22:10:06.155Z"
   },
   {
    "duration": 5,
    "start_time": "2024-11-06T22:10:17.946Z"
   },
   {
    "duration": 5,
    "start_time": "2024-11-06T22:15:06.703Z"
   },
   {
    "duration": 4,
    "start_time": "2024-11-06T22:15:13.458Z"
   },
   {
    "duration": 15,
    "start_time": "2024-11-06T22:15:15.721Z"
   },
   {
    "duration": 4,
    "start_time": "2024-11-06T22:15:18.805Z"
   },
   {
    "duration": 14,
    "start_time": "2024-11-06T22:15:21.409Z"
   },
   {
    "duration": 22,
    "start_time": "2024-11-06T22:16:17.641Z"
   },
   {
    "duration": 12,
    "start_time": "2024-11-06T22:16:28.265Z"
   },
   {
    "duration": 34,
    "start_time": "2024-11-06T22:45:03.909Z"
   },
   {
    "duration": 13,
    "start_time": "2024-11-06T22:46:21.680Z"
   },
   {
    "duration": 12,
    "start_time": "2024-11-06T22:46:48.420Z"
   },
   {
    "duration": 13,
    "start_time": "2024-11-06T22:48:28.676Z"
   },
   {
    "duration": 15,
    "start_time": "2024-11-06T22:49:03.188Z"
   },
   {
    "duration": 13,
    "start_time": "2024-11-06T22:49:04.808Z"
   },
   {
    "duration": 12,
    "start_time": "2024-11-06T22:49:39.258Z"
   },
   {
    "duration": 14,
    "start_time": "2024-11-06T22:50:12.078Z"
   },
   {
    "duration": 12,
    "start_time": "2024-11-06T22:50:39.591Z"
   },
   {
    "duration": 303,
    "start_time": "2024-11-08T16:08:43.414Z"
   },
   {
    "duration": 108,
    "start_time": "2024-11-08T16:08:45.129Z"
   },
   {
    "duration": 8,
    "start_time": "2024-11-08T16:08:47.109Z"
   },
   {
    "duration": 10,
    "start_time": "2024-11-08T16:23:52.877Z"
   },
   {
    "duration": 11,
    "start_time": "2024-11-08T16:24:26.676Z"
   },
   {
    "duration": 5,
    "start_time": "2024-11-08T16:24:36.250Z"
   },
   {
    "duration": 33,
    "start_time": "2024-11-08T17:02:48.951Z"
   },
   {
    "duration": 179,
    "start_time": "2024-11-08T17:03:01.185Z"
   },
   {
    "duration": 34,
    "start_time": "2024-11-08T17:03:36.100Z"
   },
   {
    "duration": 34,
    "start_time": "2024-11-08T17:09:24.758Z"
   },
   {
    "duration": 33,
    "start_time": "2024-11-08T17:09:54.256Z"
   },
   {
    "duration": 3,
    "start_time": "2024-11-08T17:10:07.163Z"
   },
   {
    "duration": 8,
    "start_time": "2024-11-08T17:10:09.251Z"
   },
   {
    "duration": 35,
    "start_time": "2024-11-08T17:10:11.342Z"
   },
   {
    "duration": 8,
    "start_time": "2024-11-08T19:08:12.509Z"
   },
   {
    "duration": 3,
    "start_time": "2024-11-08T19:08:27.191Z"
   },
   {
    "duration": 490,
    "start_time": "2024-11-08T19:12:35.041Z"
   },
   {
    "duration": 111,
    "start_time": "2024-11-08T19:12:35.533Z"
   },
   {
    "duration": 6,
    "start_time": "2024-11-08T19:12:35.646Z"
   },
   {
    "duration": 21,
    "start_time": "2024-11-08T19:12:35.656Z"
   },
   {
    "duration": 3,
    "start_time": "2024-11-08T19:12:35.678Z"
   },
   {
    "duration": 5,
    "start_time": "2024-11-08T19:12:35.682Z"
   },
   {
    "duration": 26,
    "start_time": "2024-11-08T19:12:35.688Z"
   },
   {
    "duration": 3,
    "start_time": "2024-11-08T19:12:35.716Z"
   },
   {
    "duration": 3,
    "start_time": "2024-11-08T19:12:35.720Z"
   },
   {
    "duration": 18,
    "start_time": "2024-11-08T19:12:35.727Z"
   },
   {
    "duration": 10,
    "start_time": "2024-11-08T19:12:35.747Z"
   },
   {
    "duration": 17,
    "start_time": "2024-11-08T19:12:35.759Z"
   },
   {
    "duration": 74,
    "start_time": "2024-11-08T19:12:35.778Z"
   },
   {
    "duration": 62,
    "start_time": "2024-11-08T19:12:35.853Z"
   },
   {
    "duration": 38,
    "start_time": "2024-11-08T19:12:35.917Z"
   },
   {
    "duration": 33,
    "start_time": "2024-11-08T19:12:35.957Z"
   },
   {
    "duration": 20,
    "start_time": "2024-11-08T19:12:35.991Z"
   },
   {
    "duration": 7,
    "start_time": "2024-11-08T19:12:36.013Z"
   },
   {
    "duration": 31,
    "start_time": "2024-11-08T19:12:36.021Z"
   },
   {
    "duration": 9,
    "start_time": "2024-11-08T19:12:36.054Z"
   },
   {
    "duration": 8,
    "start_time": "2024-11-08T19:12:36.065Z"
   },
   {
    "duration": 3,
    "start_time": "2024-11-08T19:12:36.074Z"
   },
   {
    "duration": 44,
    "start_time": "2024-11-08T19:12:36.079Z"
   },
   {
    "duration": 10,
    "start_time": "2024-11-08T19:12:36.125Z"
   },
   {
    "duration": 11,
    "start_time": "2024-11-08T19:12:36.137Z"
   },
   {
    "duration": 11,
    "start_time": "2024-11-08T19:12:36.150Z"
   },
   {
    "duration": 12,
    "start_time": "2024-11-08T19:12:36.163Z"
   },
   {
    "duration": 14,
    "start_time": "2024-11-08T19:12:36.213Z"
   },
   {
    "duration": 158,
    "start_time": "2024-11-08T20:30:56.607Z"
   },
   {
    "duration": 287,
    "start_time": "2024-11-08T20:31:00.206Z"
   },
   {
    "duration": 109,
    "start_time": "2024-11-08T20:31:02.159Z"
   },
   {
    "duration": 12,
    "start_time": "2024-11-08T20:31:03.837Z"
   },
   {
    "duration": 5,
    "start_time": "2024-11-08T21:25:13.643Z"
   },
   {
    "duration": 3,
    "start_time": "2024-11-08T21:25:19.423Z"
   }
  ],
  "colab": {
   "collapsed_sections": [
    "E0vqbgi9ay0H",
    "VUC88oWjTJw2"
   ],
   "provenance": []
  },
  "kernelspec": {
   "display_name": "myenv",
   "language": "python",
   "name": "python3"
  },
  "language_info": {
   "codemirror_mode": {
    "name": "ipython",
    "version": 3
   },
   "file_extension": ".py",
   "mimetype": "text/x-python",
   "name": "python",
   "nbconvert_exporter": "python",
   "pygments_lexer": "ipython3",
   "version": "3.13.1"
  },
  "toc": {
   "base_numbering": 1,
   "nav_menu": {},
   "number_sections": true,
   "sideBar": true,
   "skip_h1_title": true,
   "title_cell": "Table of Contents",
   "title_sidebar": "Contents",
   "toc_cell": false,
   "toc_position": {
    "height": "calc(100% - 180px)",
    "left": "10px",
    "top": "150px",
    "width": "304px"
   },
   "toc_section_display": true,
   "toc_window_display": true
  }
 },
 "nbformat": 4,
 "nbformat_minor": 1
}
